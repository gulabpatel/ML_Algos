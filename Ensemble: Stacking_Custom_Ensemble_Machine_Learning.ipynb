{
  "nbformat": 4,
  "nbformat_minor": 0,
  "metadata": {
    "kernelspec": {
      "display_name": "Python 3",
      "language": "python",
      "name": "python3"
    },
    "language_info": {
      "codemirror_mode": {
        "name": "ipython",
        "version": 3
      },
      "file_extension": ".py",
      "mimetype": "text/x-python",
      "name": "python",
      "nbconvert_exporter": "python",
      "pygments_lexer": "ipython3",
      "version": "3.7.7"
    },
    "colab": {
      "name": "Ensemble: Stacking Custom_Ensemble_Machine_Learning.ipynb",
      "provenance": [],
      "include_colab_link": true
    }
  },
  "cells": [
    {
      "cell_type": "markdown",
      "metadata": {
        "id": "view-in-github",
        "colab_type": "text"
      },
      "source": [
        "<a href=\"https://colab.research.google.com/github/gulabpatel/ML_Algos/blob/main/Ensemble%3A%20Stacking_Custom_Ensemble_Machine_Learning.ipynb\" target=\"_parent\"><img src=\"https://colab.research.google.com/assets/colab-badge.svg\" alt=\"Open In Colab\"/></a>"
      ]
    },
    {
      "cell_type": "markdown",
      "metadata": {
        "id": "dNH9LjhEcK9R"
      },
      "source": [
        "## Custom Ensemble Machine Learning Algorithms"
      ]
    },
    {
      "cell_type": "markdown",
      "source": [
        "Video walkthrough the code: https://www.youtube.com/watch?v=xtTyEoJ31Vg"
      ],
      "metadata": {
        "id": "Op71Ic_HCfwQ"
      }
    },
    {
      "cell_type": "code",
      "metadata": {
        "id": "ckiXvmGicK9U"
      },
      "source": [
        "from sklearn.ensemble import RandomForestClassifier\n",
        "from sklearn.svm import SVC\n",
        "from sklearn.linear_model import LogisticRegression\n",
        "from sklearn.naive_bayes import GaussianNB\n",
        "from sklearn.neighbors import KNeighborsClassifier\n",
        "from sklearn import model_selection\n",
        "# from sklearn.ensemble import VotingClassifier\n",
        "# from sklearn.ensemble import StackingClassifier\n",
        "import six, sys\n",
        "sys.modules['sklearn.externals.six'] = six\n",
        "from mlxtend.classifier import StackingClassifier\n",
        "\n",
        "import warnings\n",
        "warnings.filterwarnings('ignore')"
      ],
      "execution_count": 1,
      "outputs": []
    },
    {
      "cell_type": "code",
      "metadata": {
        "id": "IoSgPJ6EcK9S"
      },
      "source": [
        "## Creating synthetic Data Points\n",
        "from sklearn import datasets\n",
        "iris = datasets.load_iris()\n",
        "x_train, y_train = iris.data[:, 1:3], iris.target #taking entire data as train"
      ],
      "execution_count": 2,
      "outputs": []
    },
    {
      "cell_type": "code",
      "metadata": {
        "id": "zrOXiYIiczJs"
      },
      "source": [
        "# Define base learners\n",
        "myclf1 = KNeighborsClassifier(n_neighbors=1)\n",
        "myclf2 = RandomForestClassifier(random_state=1)\n",
        "myclf3 = GaussianNB()"
      ],
      "execution_count": 3,
      "outputs": []
    },
    {
      "cell_type": "code",
      "metadata": {
        "id": "9ig1NzEQcK9U"
      },
      "source": [
        "# Define meta model\n",
        "mylr = LogisticRegression()"
      ],
      "execution_count": 4,
      "outputs": []
    },
    {
      "cell_type": "code",
      "metadata": {
        "id": "-k48t9hkeiPG"
      },
      "source": [
        "# define the voting ensemble\n",
        "stackingclf = StackingClassifier(classifiers=[myclf1, myclf2, myclf3], \n",
        "                                 meta_classifier=mylr)"
      ],
      "execution_count": 5,
      "outputs": []
    },
    {
      "cell_type": "code",
      "metadata": {
        "id": "iDDW6uuCcK9U",
        "colab": {
          "base_uri": "https://localhost:8080/"
        },
        "outputId": "9462a347-8c46-4c86-89d5-4337fef05b1a"
      },
      "source": [
        "#print('Doing 3-fold cross validation here: \\n')\n",
        "for iterclf, iterlable in zip([myclf1, myclf2,myclf3, stackingclf],\n",
        "                              ['K-Nearest Neighbours Model',\n",
        "                               'Random Forest Model',\n",
        "                               'Naive Bayes Model',\n",
        "                               'StackingClassifier Model']):\n",
        "  scores = model_selection.cross_val_score(iterclf, x_train, y_train,\n",
        "                                          cv = 3, scoring='accuracy')\n",
        "  print(\"accuracy: %0.3f (+/- %0.3f) [%s]\" % (scores.mean(), scores.std(), iterlable))"
      ],
      "execution_count": 6,
      "outputs": [
        {
          "output_type": "stream",
          "name": "stdout",
          "text": [
            "accuracy: 0.907 (+/- 0.009) [K-Nearest Neighbours Model]\n",
            "accuracy: 0.953 (+/- 0.009) [Random Forest Model]\n",
            "accuracy: 0.913 (+/- 0.019) [Naive Bayes Model]\n",
            "accuracy: 0.947 (+/- 0.019) [StackingClassifier Model]\n"
          ]
        }
      ]
    }
  ]
}