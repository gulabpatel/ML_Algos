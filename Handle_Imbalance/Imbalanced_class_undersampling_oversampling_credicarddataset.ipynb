{
  "nbformat": 4,
  "nbformat_minor": 0,
  "metadata": {
    "kernelspec": {
      "display_name": "Python 3",
      "language": "python",
      "name": "python3"
    },
    "language_info": {
      "codemirror_mode": {
        "name": "ipython",
        "version": 3
      },
      "file_extension": ".py",
      "mimetype": "text/x-python",
      "name": "python",
      "nbconvert_exporter": "python",
      "pygments_lexer": "ipython3",
      "version": "3.6.8"
    },
    "colab": {
      "name": "Imbalance_class_undersampling_oversampling_credicarddataset.ipynb",
      "provenance": [],
      "toc_visible": true
    }
  },
  "cells": [
    {
      "cell_type": "code",
      "metadata": {
        "id": "w5qjr1C1WPtR",
        "colab": {
          "base_uri": "https://localhost:8080/"
        },
        "outputId": "f0b2c300-e0b6-4781-f14c-521e4e2de972"
      },
      "source": [
        "import matplotlib.pyplot as plt\n",
        "import numpy as np\n",
        "import pandas as pd\n",
        "import seaborn as sns\n",
        "import warnings\n",
        "from imblearn.over_sampling import SMOTE\n",
        "from imblearn.pipeline import make_pipeline\n",
        "from pylab import rcParams\n",
        "from sklearn.linear_model import LogisticRegression\n",
        "from sklearn.metrics import accuracy_score\n",
        "from sklearn.metrics import precision_score, recall_score, confusion_matrix\n",
        "from sklearn.metrics import f1_score, roc_auc_score, roc_curve\n",
        "from sklearn.model_selection import train_test_split\n",
        "from sklearn.model_selection import GridSearchCV"
      ],
      "execution_count": 1,
      "outputs": [
        {
          "output_type": "stream",
          "text": [
            "/usr/local/lib/python3.6/dist-packages/sklearn/externals/six.py:31: FutureWarning: The module is deprecated in version 0.21 and will be removed in version 0.23 since we've dropped support for Python 2.7. Please rely on the official version of six (https://pypi.org/project/six/).\n",
            "  \"(https://pypi.org/project/six/).\", FutureWarning)\n",
            "/usr/local/lib/python3.6/dist-packages/sklearn/utils/deprecation.py:144: FutureWarning: The sklearn.neighbors.base module is  deprecated in version 0.22 and will be removed in version 0.24. The corresponding classes / functions should instead be imported from sklearn.neighbors. Anything that cannot be imported from sklearn.neighbors is now part of the private API.\n",
            "  warnings.warn(message, FutureWarning)\n"
          ],
          "name": "stderr"
        }
      ]
    },
    {
      "cell_type": "code",
      "metadata": {
        "id": "DgmWoKY-WPtS"
      },
      "source": [
        "%matplotlib inline\n",
        "np.random.seed(27)\n",
        "rcParams['figure.figsize'] = 10, 6\n",
        "warnings.filterwarnings('ignore')\n",
        "sns.set(style=\"darkgrid\")"
      ],
      "execution_count": 2,
      "outputs": []
    },
    {
      "cell_type": "code",
      "metadata": {
        "id": "enTkxO11WPtS"
      },
      "source": [
        "def generate_model_report(y_actual, y_predicted):\n",
        "    print(\"Accuracy = \" , accuracy_score(y_actual, y_predicted))\n",
        "    print(\"Precision = \" ,precision_score(y_actual, y_predicted))\n",
        "    print(\"Recall = \" ,recall_score(y_actual, y_predicted))\n",
        "    print(\"F1 Score = \" ,f1_score(y_actual, y_predicted))\n",
        "    pass"
      ],
      "execution_count": 3,
      "outputs": []
    },
    {
      "cell_type": "code",
      "metadata": {
        "id": "Mw7-ohy1WPtS"
      },
      "source": [
        "def generate_auc_roc_curve(clf, X_test):\n",
        "    y_pred_proba = clf.predict_proba(X_test)[:, 1]\n",
        "    fpr, tpr, thresholds = roc_curve(Y_test,  y_pred_proba)\n",
        "    auc = roc_auc_score(Y_test, y_pred_proba)\n",
        "    plt.plot(fpr,tpr,label=\"AUC ROC Curve with Area Under the curve =\"+str(auc))\n",
        "    plt.legend(loc=4)\n",
        "    plt.show()\n",
        "    pass"
      ],
      "execution_count": 4,
      "outputs": []
    },
    {
      "cell_type": "code",
      "metadata": {
        "colab": {
          "base_uri": "https://localhost:8080/"
        },
        "id": "-J63TVRjW26h",
        "outputId": "803c1a78-2929-49a6-ac93-adef0631f272"
      },
      "source": [
        "from google.colab import drive\n",
        "drive.mount('/content/drive')"
      ],
      "execution_count": 5,
      "outputs": [
        {
          "output_type": "stream",
          "text": [
            "Mounted at /content/drive\n"
          ],
          "name": "stdout"
        }
      ]
    },
    {
      "cell_type": "code",
      "metadata": {
        "id": "oQ3VamtmWPtS"
      },
      "source": [
        "df = pd.read_csv('/content/drive/MyDrive/Colab Notebooks/Datasets/creditcard.csv')"
      ],
      "execution_count": 7,
      "outputs": []
    },
    {
      "cell_type": "code",
      "metadata": {
        "id": "1-iVhTOKWPtS",
        "colab": {
          "base_uri": "https://localhost:8080/",
          "height": 379
        },
        "outputId": "b7aefcca-7edf-4812-f361-f8790d24fe65"
      },
      "source": [
        "df.sample(10)"
      ],
      "execution_count": 8,
      "outputs": [
        {
          "output_type": "execute_result",
          "data": {
            "text/html": [
              "<div>\n",
              "<style scoped>\n",
              "    .dataframe tbody tr th:only-of-type {\n",
              "        vertical-align: middle;\n",
              "    }\n",
              "\n",
              "    .dataframe tbody tr th {\n",
              "        vertical-align: top;\n",
              "    }\n",
              "\n",
              "    .dataframe thead th {\n",
              "        text-align: right;\n",
              "    }\n",
              "</style>\n",
              "<table border=\"1\" class=\"dataframe\">\n",
              "  <thead>\n",
              "    <tr style=\"text-align: right;\">\n",
              "      <th></th>\n",
              "      <th>Time</th>\n",
              "      <th>V1</th>\n",
              "      <th>V2</th>\n",
              "      <th>V3</th>\n",
              "      <th>V4</th>\n",
              "      <th>V5</th>\n",
              "      <th>V6</th>\n",
              "      <th>V7</th>\n",
              "      <th>V8</th>\n",
              "      <th>V9</th>\n",
              "      <th>V10</th>\n",
              "      <th>V11</th>\n",
              "      <th>V12</th>\n",
              "      <th>V13</th>\n",
              "      <th>V14</th>\n",
              "      <th>V15</th>\n",
              "      <th>V16</th>\n",
              "      <th>V17</th>\n",
              "      <th>V18</th>\n",
              "      <th>V19</th>\n",
              "      <th>V20</th>\n",
              "      <th>V21</th>\n",
              "      <th>V22</th>\n",
              "      <th>V23</th>\n",
              "      <th>V24</th>\n",
              "      <th>V25</th>\n",
              "      <th>V26</th>\n",
              "      <th>V27</th>\n",
              "      <th>V28</th>\n",
              "      <th>Amount</th>\n",
              "      <th>Class</th>\n",
              "    </tr>\n",
              "  </thead>\n",
              "  <tbody>\n",
              "    <tr>\n",
              "      <th>47747</th>\n",
              "      <td>43343.0</td>\n",
              "      <td>1.209971</td>\n",
              "      <td>-0.158081</td>\n",
              "      <td>0.685984</td>\n",
              "      <td>-0.019681</td>\n",
              "      <td>-0.874075</td>\n",
              "      <td>-0.775662</td>\n",
              "      <td>-0.352771</td>\n",
              "      <td>0.015835</td>\n",
              "      <td>0.545579</td>\n",
              "      <td>-0.224426</td>\n",
              "      <td>0.088800</td>\n",
              "      <td>-0.203061</td>\n",
              "      <td>-1.113465</td>\n",
              "      <td>0.410833</td>\n",
              "      <td>1.607339</td>\n",
              "      <td>0.072905</td>\n",
              "      <td>0.100539</td>\n",
              "      <td>-0.831441</td>\n",
              "      <td>-0.446510</td>\n",
              "      <td>-0.176492</td>\n",
              "      <td>-0.096262</td>\n",
              "      <td>-0.294659</td>\n",
              "      <td>0.177728</td>\n",
              "      <td>0.418381</td>\n",
              "      <td>-0.039814</td>\n",
              "      <td>0.918010</td>\n",
              "      <td>-0.061961</td>\n",
              "      <td>0.007276</td>\n",
              "      <td>5.37</td>\n",
              "      <td>0</td>\n",
              "    </tr>\n",
              "    <tr>\n",
              "      <th>225706</th>\n",
              "      <td>144357.0</td>\n",
              "      <td>0.107350</td>\n",
              "      <td>0.718755</td>\n",
              "      <td>-0.059117</td>\n",
              "      <td>-0.821294</td>\n",
              "      <td>0.716260</td>\n",
              "      <td>-1.189281</td>\n",
              "      <td>1.338169</td>\n",
              "      <td>-0.395374</td>\n",
              "      <td>-0.185327</td>\n",
              "      <td>-0.841789</td>\n",
              "      <td>-0.908705</td>\n",
              "      <td>0.633981</td>\n",
              "      <td>0.905077</td>\n",
              "      <td>0.104062</td>\n",
              "      <td>-0.451994</td>\n",
              "      <td>-0.476546</td>\n",
              "      <td>-0.429700</td>\n",
              "      <td>-0.639710</td>\n",
              "      <td>0.121597</td>\n",
              "      <td>-0.059895</td>\n",
              "      <td>-0.043964</td>\n",
              "      <td>-0.030030</td>\n",
              "      <td>-0.042275</td>\n",
              "      <td>-0.078641</td>\n",
              "      <td>-0.157494</td>\n",
              "      <td>-0.150633</td>\n",
              "      <td>0.019411</td>\n",
              "      <td>0.036256</td>\n",
              "      <td>31.00</td>\n",
              "      <td>0</td>\n",
              "    </tr>\n",
              "    <tr>\n",
              "      <th>255432</th>\n",
              "      <td>157223.0</td>\n",
              "      <td>-0.992778</td>\n",
              "      <td>1.374399</td>\n",
              "      <td>-1.681843</td>\n",
              "      <td>-0.123910</td>\n",
              "      <td>0.711935</td>\n",
              "      <td>-1.394937</td>\n",
              "      <td>2.114597</td>\n",
              "      <td>-0.066849</td>\n",
              "      <td>-0.815940</td>\n",
              "      <td>-2.754625</td>\n",
              "      <td>0.025988</td>\n",
              "      <td>-0.054213</td>\n",
              "      <td>0.620262</td>\n",
              "      <td>-2.687384</td>\n",
              "      <td>0.243924</td>\n",
              "      <td>0.504939</td>\n",
              "      <td>2.327616</td>\n",
              "      <td>1.282721</td>\n",
              "      <td>-0.635943</td>\n",
              "      <td>0.364793</td>\n",
              "      <td>0.196423</td>\n",
              "      <td>0.220383</td>\n",
              "      <td>0.131703</td>\n",
              "      <td>-0.358277</td>\n",
              "      <td>0.402663</td>\n",
              "      <td>-0.552094</td>\n",
              "      <td>-0.015239</td>\n",
              "      <td>0.170879</td>\n",
              "      <td>231.05</td>\n",
              "      <td>0</td>\n",
              "    </tr>\n",
              "    <tr>\n",
              "      <th>202435</th>\n",
              "      <td>134327.0</td>\n",
              "      <td>2.084975</td>\n",
              "      <td>-1.678690</td>\n",
              "      <td>-0.492561</td>\n",
              "      <td>-1.592379</td>\n",
              "      <td>-1.541775</td>\n",
              "      <td>-0.284969</td>\n",
              "      <td>-1.310430</td>\n",
              "      <td>-0.051357</td>\n",
              "      <td>-1.320674</td>\n",
              "      <td>1.630477</td>\n",
              "      <td>0.589819</td>\n",
              "      <td>0.279823</td>\n",
              "      <td>1.195581</td>\n",
              "      <td>-0.541423</td>\n",
              "      <td>-0.680839</td>\n",
              "      <td>0.018269</td>\n",
              "      <td>-0.023405</td>\n",
              "      <td>0.356297</td>\n",
              "      <td>0.236777</td>\n",
              "      <td>-0.202740</td>\n",
              "      <td>-0.315913</td>\n",
              "      <td>-0.614923</td>\n",
              "      <td>0.334403</td>\n",
              "      <td>-0.383453</td>\n",
              "      <td>-0.604302</td>\n",
              "      <td>-0.494455</td>\n",
              "      <td>0.023015</td>\n",
              "      <td>-0.032347</td>\n",
              "      <td>95.94</td>\n",
              "      <td>0</td>\n",
              "    </tr>\n",
              "    <tr>\n",
              "      <th>119363</th>\n",
              "      <td>75422.0</td>\n",
              "      <td>1.176209</td>\n",
              "      <td>0.183813</td>\n",
              "      <td>0.514542</td>\n",
              "      <td>0.450080</td>\n",
              "      <td>-0.197021</td>\n",
              "      <td>-0.187294</td>\n",
              "      <td>-0.091779</td>\n",
              "      <td>0.056852</td>\n",
              "      <td>-0.280994</td>\n",
              "      <td>0.047212</td>\n",
              "      <td>1.773171</td>\n",
              "      <td>1.363238</td>\n",
              "      <td>0.625851</td>\n",
              "      <td>0.381332</td>\n",
              "      <td>0.537814</td>\n",
              "      <td>0.187727</td>\n",
              "      <td>-0.419805</td>\n",
              "      <td>-0.546371</td>\n",
              "      <td>-0.189620</td>\n",
              "      <td>-0.088922</td>\n",
              "      <td>-0.173952</td>\n",
              "      <td>-0.483480</td>\n",
              "      <td>0.149046</td>\n",
              "      <td>0.023991</td>\n",
              "      <td>0.129106</td>\n",
              "      <td>0.105646</td>\n",
              "      <td>-0.013529</td>\n",
              "      <td>0.006163</td>\n",
              "      <td>0.99</td>\n",
              "      <td>0</td>\n",
              "    </tr>\n",
              "    <tr>\n",
              "      <th>278025</th>\n",
              "      <td>167999.0</td>\n",
              "      <td>-1.156907</td>\n",
              "      <td>1.420744</td>\n",
              "      <td>-0.147273</td>\n",
              "      <td>-0.466291</td>\n",
              "      <td>0.776343</td>\n",
              "      <td>-0.570537</td>\n",
              "      <td>0.578796</td>\n",
              "      <td>0.300638</td>\n",
              "      <td>-0.302351</td>\n",
              "      <td>-1.067851</td>\n",
              "      <td>-0.752718</td>\n",
              "      <td>0.218274</td>\n",
              "      <td>0.770489</td>\n",
              "      <td>-1.134082</td>\n",
              "      <td>-0.063527</td>\n",
              "      <td>0.424923</td>\n",
              "      <td>0.582142</td>\n",
              "      <td>0.184803</td>\n",
              "      <td>-0.387181</td>\n",
              "      <td>-0.096968</td>\n",
              "      <td>-0.011317</td>\n",
              "      <td>0.066315</td>\n",
              "      <td>0.001018</td>\n",
              "      <td>0.541612</td>\n",
              "      <td>-0.007804</td>\n",
              "      <td>0.220533</td>\n",
              "      <td>-0.000502</td>\n",
              "      <td>0.142216</td>\n",
              "      <td>3.15</td>\n",
              "      <td>0</td>\n",
              "    </tr>\n",
              "    <tr>\n",
              "      <th>36841</th>\n",
              "      <td>38707.0</td>\n",
              "      <td>0.785444</td>\n",
              "      <td>-0.597222</td>\n",
              "      <td>0.605561</td>\n",
              "      <td>1.244619</td>\n",
              "      <td>-0.622756</td>\n",
              "      <td>0.315559</td>\n",
              "      <td>-0.254002</td>\n",
              "      <td>0.154470</td>\n",
              "      <td>0.485267</td>\n",
              "      <td>-0.109619</td>\n",
              "      <td>-0.794097</td>\n",
              "      <td>-0.246940</td>\n",
              "      <td>-0.428476</td>\n",
              "      <td>0.219492</td>\n",
              "      <td>1.717808</td>\n",
              "      <td>0.523656</td>\n",
              "      <td>-0.538191</td>\n",
              "      <td>0.028283</td>\n",
              "      <td>-0.837157</td>\n",
              "      <td>0.235017</td>\n",
              "      <td>0.124869</td>\n",
              "      <td>-0.076397</td>\n",
              "      <td>-0.178626</td>\n",
              "      <td>-0.483995</td>\n",
              "      <td>0.226201</td>\n",
              "      <td>-0.389716</td>\n",
              "      <td>0.027125</td>\n",
              "      <td>0.064156</td>\n",
              "      <td>210.00</td>\n",
              "      <td>0</td>\n",
              "    </tr>\n",
              "    <tr>\n",
              "      <th>2897</th>\n",
              "      <td>2440.0</td>\n",
              "      <td>-4.508547</td>\n",
              "      <td>5.050932</td>\n",
              "      <td>-2.114599</td>\n",
              "      <td>0.265771</td>\n",
              "      <td>1.263230</td>\n",
              "      <td>0.474670</td>\n",
              "      <td>-3.704011</td>\n",
              "      <td>-12.668590</td>\n",
              "      <td>0.344009</td>\n",
              "      <td>-0.674270</td>\n",
              "      <td>0.991243</td>\n",
              "      <td>0.826888</td>\n",
              "      <td>-0.233163</td>\n",
              "      <td>-3.089463</td>\n",
              "      <td>0.263483</td>\n",
              "      <td>0.806294</td>\n",
              "      <td>3.855011</td>\n",
              "      <td>0.981090</td>\n",
              "      <td>-2.197613</td>\n",
              "      <td>-2.574071</td>\n",
              "      <td>12.194849</td>\n",
              "      <td>-4.266839</td>\n",
              "      <td>0.500497</td>\n",
              "      <td>-0.100951</td>\n",
              "      <td>-0.265935</td>\n",
              "      <td>-0.472904</td>\n",
              "      <td>1.055836</td>\n",
              "      <td>0.504921</td>\n",
              "      <td>2.29</td>\n",
              "      <td>0</td>\n",
              "    </tr>\n",
              "    <tr>\n",
              "      <th>209168</th>\n",
              "      <td>137440.0</td>\n",
              "      <td>-0.669346</td>\n",
              "      <td>0.911977</td>\n",
              "      <td>1.573321</td>\n",
              "      <td>0.085886</td>\n",
              "      <td>0.328298</td>\n",
              "      <td>0.123796</td>\n",
              "      <td>0.833307</td>\n",
              "      <td>-0.070630</td>\n",
              "      <td>0.045147</td>\n",
              "      <td>-0.980685</td>\n",
              "      <td>-0.768544</td>\n",
              "      <td>1.158238</td>\n",
              "      <td>1.064611</td>\n",
              "      <td>-0.601892</td>\n",
              "      <td>-1.212480</td>\n",
              "      <td>-1.701812</td>\n",
              "      <td>0.798115</td>\n",
              "      <td>-1.051274</td>\n",
              "      <td>1.673842</td>\n",
              "      <td>0.096466</td>\n",
              "      <td>-0.295969</td>\n",
              "      <td>-0.505125</td>\n",
              "      <td>-0.307069</td>\n",
              "      <td>1.149803</td>\n",
              "      <td>0.610874</td>\n",
              "      <td>-0.108791</td>\n",
              "      <td>-0.050923</td>\n",
              "      <td>0.063238</td>\n",
              "      <td>16.72</td>\n",
              "      <td>0</td>\n",
              "    </tr>\n",
              "    <tr>\n",
              "      <th>164732</th>\n",
              "      <td>116951.0</td>\n",
              "      <td>-1.567896</td>\n",
              "      <td>0.221627</td>\n",
              "      <td>1.263914</td>\n",
              "      <td>1.589267</td>\n",
              "      <td>-1.127205</td>\n",
              "      <td>0.460612</td>\n",
              "      <td>-0.853595</td>\n",
              "      <td>1.085444</td>\n",
              "      <td>0.586145</td>\n",
              "      <td>-0.936012</td>\n",
              "      <td>-1.857182</td>\n",
              "      <td>0.871812</td>\n",
              "      <td>0.550898</td>\n",
              "      <td>-0.302934</td>\n",
              "      <td>-0.910432</td>\n",
              "      <td>-0.379791</td>\n",
              "      <td>0.493669</td>\n",
              "      <td>0.194899</td>\n",
              "      <td>0.761313</td>\n",
              "      <td>-0.191527</td>\n",
              "      <td>0.190115</td>\n",
              "      <td>0.626447</td>\n",
              "      <td>0.140682</td>\n",
              "      <td>0.011337</td>\n",
              "      <td>-0.652499</td>\n",
              "      <td>-0.585848</td>\n",
              "      <td>0.025916</td>\n",
              "      <td>-0.090032</td>\n",
              "      <td>60.00</td>\n",
              "      <td>0</td>\n",
              "    </tr>\n",
              "  </tbody>\n",
              "</table>\n",
              "</div>"
            ],
            "text/plain": [
              "            Time        V1        V2  ...       V28  Amount  Class\n",
              "47747    43343.0  1.209971 -0.158081  ...  0.007276    5.37      0\n",
              "225706  144357.0  0.107350  0.718755  ...  0.036256   31.00      0\n",
              "255432  157223.0 -0.992778  1.374399  ...  0.170879  231.05      0\n",
              "202435  134327.0  2.084975 -1.678690  ... -0.032347   95.94      0\n",
              "119363   75422.0  1.176209  0.183813  ...  0.006163    0.99      0\n",
              "278025  167999.0 -1.156907  1.420744  ...  0.142216    3.15      0\n",
              "36841    38707.0  0.785444 -0.597222  ...  0.064156  210.00      0\n",
              "2897      2440.0 -4.508547  5.050932  ...  0.504921    2.29      0\n",
              "209168  137440.0 -0.669346  0.911977  ...  0.063238   16.72      0\n",
              "164732  116951.0 -1.567896  0.221627  ... -0.090032   60.00      0\n",
              "\n",
              "[10 rows x 31 columns]"
            ]
          },
          "metadata": {
            "tags": []
          },
          "execution_count": 8
        }
      ]
    },
    {
      "cell_type": "code",
      "metadata": {
        "id": "_ybxObxsWPtX"
      },
      "source": [
        "target = 'Class'"
      ],
      "execution_count": 9,
      "outputs": []
    },
    {
      "cell_type": "code",
      "metadata": {
        "id": "qOu8TWiAWPtX"
      },
      "source": [
        "X = df.loc[:, df.columns!=target]"
      ],
      "execution_count": 10,
      "outputs": []
    },
    {
      "cell_type": "code",
      "metadata": {
        "id": "oJzAePk_WPtX"
      },
      "source": [
        "Y = df.loc[:, df.columns==target]"
      ],
      "execution_count": 11,
      "outputs": []
    },
    {
      "cell_type": "code",
      "metadata": {
        "id": "UhVEy6kxWPtY"
      },
      "source": [
        "X_train, X_test, Y_train, Y_test = train_test_split(X, Y, \n",
        "                                                    test_size=0.33, \n",
        "                                                    random_state=42)"
      ],
      "execution_count": 12,
      "outputs": []
    },
    {
      "cell_type": "code",
      "metadata": {
        "id": "trdp54dLWPtY",
        "colab": {
          "base_uri": "https://localhost:8080/",
          "height": 445
        },
        "outputId": "57afe4cb-17ec-42bb-bd9b-23c00018160e"
      },
      "source": [
        "ax = sns.countplot(x=target, data=df)\n",
        "print(df[target].value_counts())"
      ],
      "execution_count": 13,
      "outputs": [
        {
          "output_type": "stream",
          "text": [
            "0    284315\n",
            "1       492\n",
            "Name: Class, dtype: int64\n"
          ],
          "name": "stdout"
        },
        {
          "output_type": "display_data",
          "data": {
            "image/png": "[encoded data removed]",
            "text/plain": [
              "<Figure size 720x432 with 1 Axes>"
            ]
          },
          "metadata": {
            "tags": []
          }
        }
      ]
    },
    {
      "cell_type": "code",
      "metadata": {
        "id": "Dgp38o8nWPtY",
        "colab": {
          "base_uri": "https://localhost:8080/"
        },
        "outputId": "8c19d4f5-1069-47f4-ab16-6d10a59b40ab"
      },
      "source": [
        "100* (492/float(df.shape[0]))"
      ],
      "execution_count": 14,
      "outputs": [
        {
          "output_type": "execute_result",
          "data": {
            "text/plain": [
              "0.1727485630620034"
            ]
          },
          "metadata": {
            "tags": []
          },
          "execution_count": 14
        }
      ]
    },
    {
      "cell_type": "code",
      "metadata": {
        "id": "AOv6Kc0CWPtZ",
        "colab": {
          "base_uri": "https://localhost:8080/"
        },
        "outputId": "0418a88e-1626-40da-ba34-26e682b05d7b"
      },
      "source": [
        "100* (284315/float(df.shape[0]))"
      ],
      "execution_count": 15,
      "outputs": [
        {
          "output_type": "execute_result",
          "data": {
            "text/plain": [
              "99.82725143693798"
            ]
          },
          "metadata": {
            "tags": []
          },
          "execution_count": 15
        }
      ]
    },
    {
      "cell_type": "code",
      "metadata": {
        "id": "C0fM1p8HWPtb",
        "colab": {
          "base_uri": "https://localhost:8080/"
        },
        "outputId": "46480e77-675e-4141-b170-f084b80b3840"
      },
      "source": [
        "Y_train[target].value_counts()"
      ],
      "execution_count": 16,
      "outputs": [
        {
          "output_type": "execute_result",
          "data": {
            "text/plain": [
              "0    190477\n",
              "1       343\n",
              "Name: Class, dtype: int64"
            ]
          },
          "metadata": {
            "tags": []
          },
          "execution_count": 16
        }
      ]
    },
    {
      "cell_type": "code",
      "metadata": {
        "id": "OpQb-GlyWPtb"
      },
      "source": [
        "clf = LogisticRegression().fit(X_train, Y_train)"
      ],
      "execution_count": 17,
      "outputs": []
    },
    {
      "cell_type": "code",
      "metadata": {
        "id": "p5MRjpm1WPtb"
      },
      "source": [
        "Y_Test_Pred = clf.predict(X_test)"
      ],
      "execution_count": 18,
      "outputs": []
    },
    {
      "cell_type": "code",
      "metadata": {
        "id": "T75-dVuAWPtb",
        "colab": {
          "base_uri": "https://localhost:8080/",
          "height": 142
        },
        "outputId": "1f304587-b5b7-4aff-e920-5d62c651a16a"
      },
      "source": [
        "pd.crosstab(Y_Test_Pred, Y_test[target], rownames=['Predicted'], colnames=['Actual'])"
      ],
      "execution_count": 19,
      "outputs": [
        {
          "output_type": "execute_result",
          "data": {
            "text/html": [
              "<div>\n",
              "<style scoped>\n",
              "    .dataframe tbody tr th:only-of-type {\n",
              "        vertical-align: middle;\n",
              "    }\n",
              "\n",
              "    .dataframe tbody tr th {\n",
              "        vertical-align: top;\n",
              "    }\n",
              "\n",
              "    .dataframe thead th {\n",
              "        text-align: right;\n",
              "    }\n",
              "</style>\n",
              "<table border=\"1\" class=\"dataframe\">\n",
              "  <thead>\n",
              "    <tr style=\"text-align: right;\">\n",
              "      <th>Actual</th>\n",
              "      <th>0</th>\n",
              "      <th>1</th>\n",
              "    </tr>\n",
              "    <tr>\n",
              "      <th>Predicted</th>\n",
              "      <th></th>\n",
              "      <th></th>\n",
              "    </tr>\n",
              "  </thead>\n",
              "  <tbody>\n",
              "    <tr>\n",
              "      <th>0</th>\n",
              "      <td>93792</td>\n",
              "      <td>57</td>\n",
              "    </tr>\n",
              "    <tr>\n",
              "      <th>1</th>\n",
              "      <td>46</td>\n",
              "      <td>92</td>\n",
              "    </tr>\n",
              "  </tbody>\n",
              "</table>\n",
              "</div>"
            ],
            "text/plain": [
              "Actual         0   1\n",
              "Predicted           \n",
              "0          93792  57\n",
              "1             46  92"
            ]
          },
          "metadata": {
            "tags": []
          },
          "execution_count": 19
        }
      ]
    },
    {
      "cell_type": "code",
      "metadata": {
        "id": "A8XQPkHgWPtd",
        "colab": {
          "base_uri": "https://localhost:8080/"
        },
        "outputId": "58bf99ad-69a3-4b59-842b-48f5391c8268"
      },
      "source": [
        "generate_model_report(Y_test, Y_Test_Pred)"
      ],
      "execution_count": 20,
      "outputs": [
        {
          "output_type": "stream",
          "text": [
            "Accuracy =  0.9989041037590305\n",
            "Precision =  0.6666666666666666\n",
            "Recall =  0.6174496644295302\n",
            "F1 Score =  0.6411149825783973\n"
          ],
          "name": "stdout"
        }
      ]
    },
    {
      "cell_type": "code",
      "metadata": {
        "id": "HCm7lcnUWPte",
        "colab": {
          "base_uri": "https://localhost:8080/",
          "height": 377
        },
        "outputId": "fd711dd7-0b99-47dd-cfd8-a93f4e00e857"
      },
      "source": [
        "generate_auc_roc_curve(clf, X_test)"
      ],
      "execution_count": 21,
      "outputs": [
        {
          "output_type": "display_data",
          "data": {
            "image/png": "[encoded data removed]",
            "text/plain": [
              "<Figure size 720x432 with 1 Axes>"
            ]
          },
          "metadata": {
            "tags": []
          }
        }
      ]
    },
    {
      "cell_type": "markdown",
      "metadata": {
        "id": "8UxSqvx2WPte"
      },
      "source": [
        "# class_weight='balanced'"
      ]
    },
    {
      "cell_type": "markdown",
      "metadata": {
        "id": "EtMNL1EgWPtf"
      },
      "source": [
        "<img src=\"https://github.com/bhattbhavesh91/imbalance_class_sklearn/blob/master/class_weight_inp_image.png?raw=1\">"
      ]
    },
    {
      "cell_type": "code",
      "metadata": {
        "id": "_lrE85EzWPtf"
      },
      "source": [
        "# https://scikit-learn.org/stable/modules/generated/sklearn.utils.class_weight.compute_class_weight.html"
      ],
      "execution_count": null,
      "outputs": []
    },
    {
      "cell_type": "code",
      "metadata": {
        "id": "o2WXwTssWPtf",
        "colab": {
          "base_uri": "https://localhost:8080/"
        },
        "outputId": "ff425b96-f1b4-46ab-c9d8-a0021d578252"
      },
      "source": [
        "unique_classes = list(df[target].unique())\n",
        "unique_classes"
      ],
      "execution_count": 22,
      "outputs": [
        {
          "output_type": "execute_result",
          "data": {
            "text/plain": [
              "[0, 1]"
            ]
          },
          "metadata": {
            "tags": []
          },
          "execution_count": 22
        }
      ]
    },
    {
      "cell_type": "code",
      "metadata": {
        "id": "7btnC1o8WPtf"
      },
      "source": [
        "out_dict = {}\n",
        "for classes in unique_classes:\n",
        "    out_dict[classes] = df.shape[0]/((df.loc[df[target] == classes].shape[0])\n",
        "                                     *len(unique_classes))"
      ],
      "execution_count": 23,
      "outputs": []
    },
    {
      "cell_type": "code",
      "metadata": {
        "id": "7VwX0R60WPtf",
        "colab": {
          "base_uri": "https://localhost:8080/"
        },
        "outputId": "a5f862af-62fd-469e-97b2-d189b86b0557"
      },
      "source": [
        "out_dict"
      ],
      "execution_count": 24,
      "outputs": [
        {
          "output_type": "execute_result",
          "data": {
            "text/plain": [
              "{0: 0.5008652375006595, 1: 289.4380081300813}"
            ]
          },
          "metadata": {
            "tags": []
          },
          "execution_count": 24
        }
      ]
    },
    {
      "cell_type": "code",
      "metadata": {
        "id": "OY9TlXyYWPtf",
        "colab": {
          "base_uri": "https://localhost:8080/"
        },
        "outputId": "09cfd739-b89d-408d-f154-81a7a3187595"
      },
      "source": [
        "print (X_train.shape, Y_train.shape)"
      ],
      "execution_count": 25,
      "outputs": [
        {
          "output_type": "stream",
          "text": [
            "(190820, 30) (190820, 1)\n"
          ],
          "name": "stdout"
        }
      ]
    },
    {
      "cell_type": "code",
      "metadata": {
        "id": "kG0Y113NWPtg"
      },
      "source": [
        "clf = LogisticRegression(class_weight='balanced').fit(X_train, Y_train)"
      ],
      "execution_count": 26,
      "outputs": []
    },
    {
      "cell_type": "code",
      "metadata": {
        "id": "CydoUg2xWPtg"
      },
      "source": [
        "from sklearn.utils import class_weight #IT would compute the weights"
      ],
      "execution_count": 27,
      "outputs": []
    },
    {
      "cell_type": "code",
      "metadata": {
        "id": "WoOqGROpWPtj",
        "colab": {
          "base_uri": "https://localhost:8080/"
        },
        "outputId": "80abc5c7-125b-47a6-e82f-3bca88004058"
      },
      "source": [
        "class_weight.compute_class_weight('balanced', np.unique(Y_train), Y_train[target])"
      ],
      "execution_count": 28,
      "outputs": [
        {
          "output_type": "execute_result",
          "data": {
            "text/plain": [
              "array([  0.50090037, 278.16326531])"
            ]
          },
          "metadata": {
            "tags": []
          },
          "execution_count": 28
        }
      ]
    },
    {
      "cell_type": "code",
      "metadata": {
        "id": "J82jnBXeWPtk"
      },
      "source": [
        "Y_Test_Pred = clf.predict(X_test)"
      ],
      "execution_count": 29,
      "outputs": []
    },
    {
      "cell_type": "code",
      "metadata": {
        "id": "NBYRyRv4WPtk",
        "colab": {
          "base_uri": "https://localhost:8080/",
          "height": 142
        },
        "outputId": "6ed18d6d-0187-482f-e37e-c8669c519dcf"
      },
      "source": [
        "pd.crosstab(Y_Test_Pred, Y_test[target], rownames=['Predicted'], colnames=['Actual'])"
      ],
      "execution_count": 30,
      "outputs": [
        {
          "output_type": "execute_result",
          "data": {
            "text/html": [
              "<div>\n",
              "<style scoped>\n",
              "    .dataframe tbody tr th:only-of-type {\n",
              "        vertical-align: middle;\n",
              "    }\n",
              "\n",
              "    .dataframe tbody tr th {\n",
              "        vertical-align: top;\n",
              "    }\n",
              "\n",
              "    .dataframe thead th {\n",
              "        text-align: right;\n",
              "    }\n",
              "</style>\n",
              "<table border=\"1\" class=\"dataframe\">\n",
              "  <thead>\n",
              "    <tr style=\"text-align: right;\">\n",
              "      <th>Actual</th>\n",
              "      <th>0</th>\n",
              "      <th>1</th>\n",
              "    </tr>\n",
              "    <tr>\n",
              "      <th>Predicted</th>\n",
              "      <th></th>\n",
              "      <th></th>\n",
              "    </tr>\n",
              "  </thead>\n",
              "  <tbody>\n",
              "    <tr>\n",
              "      <th>0</th>\n",
              "      <td>90719</td>\n",
              "      <td>12</td>\n",
              "    </tr>\n",
              "    <tr>\n",
              "      <th>1</th>\n",
              "      <td>3119</td>\n",
              "      <td>137</td>\n",
              "    </tr>\n",
              "  </tbody>\n",
              "</table>\n",
              "</div>"
            ],
            "text/plain": [
              "Actual         0    1\n",
              "Predicted            \n",
              "0          90719   12\n",
              "1           3119  137"
            ]
          },
          "metadata": {
            "tags": []
          },
          "execution_count": 30
        }
      ]
    },
    {
      "cell_type": "code",
      "metadata": {
        "id": "XnxkAuTFWPtk",
        "colab": {
          "base_uri": "https://localhost:8080/"
        },
        "outputId": "73783f0c-dc28-49de-857f-453b41168194"
      },
      "source": [
        "generate_model_report(Y_test, Y_Test_Pred)"
      ],
      "execution_count": 31,
      "outputs": [
        {
          "output_type": "stream",
          "text": [
            "Accuracy =  0.9666868822283933\n",
            "Precision =  0.04207616707616708\n",
            "Recall =  0.9194630872483222\n",
            "F1 Score =  0.08046989720998532\n"
          ],
          "name": "stdout"
        }
      ]
    },
    {
      "cell_type": "code",
      "metadata": {
        "id": "FAGdNmq9WPtk",
        "colab": {
          "base_uri": "https://localhost:8080/",
          "height": 377
        },
        "outputId": "287abb93-1574-4f54-ae90-d0a5c681e86c"
      },
      "source": [
        "generate_auc_roc_curve(clf, X_test)"
      ],
      "execution_count": 32,
      "outputs": [
        {
          "output_type": "display_data",
          "data": {
            "image/png": "[encoded data removed]",
            "text/plain": [
              "<Figure size 720x432 with 1 Axes>"
            ]
          },
          "metadata": {
            "tags": []
          }
        }
      ]
    },
    {
      "cell_type": "code",
      "metadata": {
        "id": "SGnEFkXRWPtl",
        "colab": {
          "base_uri": "https://localhost:8080/"
        },
        "outputId": "4a385ffd-7e66-4115-fd57-9fe6dbe17a76"
      },
      "source": [
        "weights = np.linspace(0.05, 0.95, 20)\n",
        "gsc = GridSearchCV(\n",
        "    estimator=LogisticRegression(),\n",
        "    param_grid={\n",
        "        'class_weight': [{0: x, 1: 1.0-x} for x in weights]\n",
        "    },\n",
        "    scoring='f1',\n",
        "    cv=5\n",
        ")\n",
        "\n",
        "grid_result = gsc.fit(X_train, Y_train)\n",
        "print(\"Best parameters : %s\" % grid_result.best_params_)"
      ],
      "execution_count": 33,
      "outputs": [
        {
          "output_type": "stream",
          "text": [
            "Best parameters : {'class_weight': {0: 0.28684210526315784, 1: 0.7131578947368422}}\n"
          ],
          "name": "stdout"
        }
      ]
    },
    {
      "cell_type": "code",
      "metadata": {
        "id": "fqIjDTeCWPtl",
        "colab": {
          "base_uri": "https://localhost:8080/",
          "height": 411
        },
        "outputId": "c4256118-63e8-4335-cfcb-98ed2e3e87a0"
      },
      "source": [
        "data_out = pd.DataFrame({'score': grid_result.cv_results_['mean_test_score'],\n",
        "                       'weight': weights })\n",
        "data_out.plot(x='weight')"
      ],
      "execution_count": 34,
      "outputs": [
        {
          "output_type": "execute_result",
          "data": {
            "text/plain": [
              "<matplotlib.axes._subplots.AxesSubplot at 0x7f4318d797b8>"
            ]
          },
          "metadata": {
            "tags": []
          },
          "execution_count": 34
        },
        {
          "output_type": "display_data",
          "data": {
            "image/png": "[encoded data removed]",
            "text/plain": [
              "<Figure size 720x432 with 1 Axes>"
            ]
          },
          "metadata": {
            "tags": []
          }
        }
      ]
    },
    {
      "cell_type": "code",
      "metadata": {
        "id": "HaBCfJCTWPtl",
        "colab": {
          "base_uri": "https://localhost:8080/",
          "height": 669
        },
        "outputId": "35bec367-52f0-47f4-b164-b345e6f805ea"
      },
      "source": [
        "data_out"
      ],
      "execution_count": 35,
      "outputs": [
        {
          "output_type": "execute_result",
          "data": {
            "text/html": [
              "<div>\n",
              "<style scoped>\n",
              "    .dataframe tbody tr th:only-of-type {\n",
              "        vertical-align: middle;\n",
              "    }\n",
              "\n",
              "    .dataframe tbody tr th {\n",
              "        vertical-align: top;\n",
              "    }\n",
              "\n",
              "    .dataframe thead th {\n",
              "        text-align: right;\n",
              "    }\n",
              "</style>\n",
              "<table border=\"1\" class=\"dataframe\">\n",
              "  <thead>\n",
              "    <tr style=\"text-align: right;\">\n",
              "      <th></th>\n",
              "      <th>score</th>\n",
              "      <th>weight</th>\n",
              "    </tr>\n",
              "  </thead>\n",
              "  <tbody>\n",
              "    <tr>\n",
              "      <th>0</th>\n",
              "      <td>0.473492</td>\n",
              "      <td>0.050000</td>\n",
              "    </tr>\n",
              "    <tr>\n",
              "      <th>1</th>\n",
              "      <td>0.578800</td>\n",
              "      <td>0.097368</td>\n",
              "    </tr>\n",
              "    <tr>\n",
              "      <th>2</th>\n",
              "      <td>0.605815</td>\n",
              "      <td>0.144737</td>\n",
              "    </tr>\n",
              "    <tr>\n",
              "      <th>3</th>\n",
              "      <td>0.648032</td>\n",
              "      <td>0.192105</td>\n",
              "    </tr>\n",
              "    <tr>\n",
              "      <th>4</th>\n",
              "      <td>0.701782</td>\n",
              "      <td>0.239474</td>\n",
              "    </tr>\n",
              "    <tr>\n",
              "      <th>5</th>\n",
              "      <td>0.715410</td>\n",
              "      <td>0.286842</td>\n",
              "    </tr>\n",
              "    <tr>\n",
              "      <th>6</th>\n",
              "      <td>0.689225</td>\n",
              "      <td>0.334211</td>\n",
              "    </tr>\n",
              "    <tr>\n",
              "      <th>7</th>\n",
              "      <td>0.714252</td>\n",
              "      <td>0.381579</td>\n",
              "    </tr>\n",
              "    <tr>\n",
              "      <th>8</th>\n",
              "      <td>0.699367</td>\n",
              "      <td>0.428947</td>\n",
              "    </tr>\n",
              "    <tr>\n",
              "      <th>9</th>\n",
              "      <td>0.693621</td>\n",
              "      <td>0.476316</td>\n",
              "    </tr>\n",
              "    <tr>\n",
              "      <th>10</th>\n",
              "      <td>0.693531</td>\n",
              "      <td>0.523684</td>\n",
              "    </tr>\n",
              "    <tr>\n",
              "      <th>11</th>\n",
              "      <td>0.678724</td>\n",
              "      <td>0.571053</td>\n",
              "    </tr>\n",
              "    <tr>\n",
              "      <th>12</th>\n",
              "      <td>0.700963</td>\n",
              "      <td>0.618421</td>\n",
              "    </tr>\n",
              "    <tr>\n",
              "      <th>13</th>\n",
              "      <td>0.636512</td>\n",
              "      <td>0.665789</td>\n",
              "    </tr>\n",
              "    <tr>\n",
              "      <th>14</th>\n",
              "      <td>0.589204</td>\n",
              "      <td>0.713158</td>\n",
              "    </tr>\n",
              "    <tr>\n",
              "      <th>15</th>\n",
              "      <td>0.556558</td>\n",
              "      <td>0.760526</td>\n",
              "    </tr>\n",
              "    <tr>\n",
              "      <th>16</th>\n",
              "      <td>0.487959</td>\n",
              "      <td>0.807895</td>\n",
              "    </tr>\n",
              "    <tr>\n",
              "      <th>17</th>\n",
              "      <td>0.423044</td>\n",
              "      <td>0.855263</td>\n",
              "    </tr>\n",
              "    <tr>\n",
              "      <th>18</th>\n",
              "      <td>0.351436</td>\n",
              "      <td>0.902632</td>\n",
              "    </tr>\n",
              "    <tr>\n",
              "      <th>19</th>\n",
              "      <td>0.222940</td>\n",
              "      <td>0.950000</td>\n",
              "    </tr>\n",
              "  </tbody>\n",
              "</table>\n",
              "</div>"
            ],
            "text/plain": [
              "       score    weight\n",
              "0   0.473492  0.050000\n",
              "1   0.578800  0.097368\n",
              "2   0.605815  0.144737\n",
              "3   0.648032  0.192105\n",
              "4   0.701782  0.239474\n",
              "5   0.715410  0.286842\n",
              "6   0.689225  0.334211\n",
              "7   0.714252  0.381579\n",
              "8   0.699367  0.428947\n",
              "9   0.693621  0.476316\n",
              "10  0.693531  0.523684\n",
              "11  0.678724  0.571053\n",
              "12  0.700963  0.618421\n",
              "13  0.636512  0.665789\n",
              "14  0.589204  0.713158\n",
              "15  0.556558  0.760526\n",
              "16  0.487959  0.807895\n",
              "17  0.423044  0.855263\n",
              "18  0.351436  0.902632\n",
              "19  0.222940  0.950000"
            ]
          },
          "metadata": {
            "tags": []
          },
          "execution_count": 35
        }
      ]
    },
    {
      "cell_type": "code",
      "metadata": {
        "id": "Q8smUc7rWPtr"
      },
      "source": [
        "clf = LogisticRegression(**grid_result.best_params_).fit(X_train, Y_train)"
      ],
      "execution_count": 36,
      "outputs": []
    },
    {
      "cell_type": "code",
      "metadata": {
        "id": "RhF9hbZ_WPtr"
      },
      "source": [
        "Y_Test_Pred = clf.predict(X_test)"
      ],
      "execution_count": 37,
      "outputs": []
    },
    {
      "cell_type": "code",
      "metadata": {
        "id": "kmV9bZHGWPtr",
        "colab": {
          "base_uri": "https://localhost:8080/",
          "height": 142
        },
        "outputId": "538f0fa7-9244-4ae6-a269-9e1755ed25f6"
      },
      "source": [
        "pd.crosstab(Y_Test_Pred, Y_test[target], rownames=['Predicted'], colnames=['Actual'])"
      ],
      "execution_count": 38,
      "outputs": [
        {
          "output_type": "execute_result",
          "data": {
            "text/html": [
              "<div>\n",
              "<style scoped>\n",
              "    .dataframe tbody tr th:only-of-type {\n",
              "        vertical-align: middle;\n",
              "    }\n",
              "\n",
              "    .dataframe tbody tr th {\n",
              "        vertical-align: top;\n",
              "    }\n",
              "\n",
              "    .dataframe thead th {\n",
              "        text-align: right;\n",
              "    }\n",
              "</style>\n",
              "<table border=\"1\" class=\"dataframe\">\n",
              "  <thead>\n",
              "    <tr style=\"text-align: right;\">\n",
              "      <th>Actual</th>\n",
              "      <th>0</th>\n",
              "      <th>1</th>\n",
              "    </tr>\n",
              "    <tr>\n",
              "      <th>Predicted</th>\n",
              "      <th></th>\n",
              "      <th></th>\n",
              "    </tr>\n",
              "  </thead>\n",
              "  <tbody>\n",
              "    <tr>\n",
              "      <th>0</th>\n",
              "      <td>93767</td>\n",
              "      <td>37</td>\n",
              "    </tr>\n",
              "    <tr>\n",
              "      <th>1</th>\n",
              "      <td>71</td>\n",
              "      <td>112</td>\n",
              "    </tr>\n",
              "  </tbody>\n",
              "</table>\n",
              "</div>"
            ],
            "text/plain": [
              "Actual         0    1\n",
              "Predicted            \n",
              "0          93767   37\n",
              "1             71  112"
            ]
          },
          "metadata": {
            "tags": []
          },
          "execution_count": 38
        }
      ]
    },
    {
      "cell_type": "code",
      "metadata": {
        "id": "LOsnYx0GWPts",
        "colab": {
          "base_uri": "https://localhost:8080/"
        },
        "outputId": "149d4802-3074-4f29-ba49-aec839f5ce66"
      },
      "source": [
        "generate_model_report(Y_test, Y_Test_Pred)"
      ],
      "execution_count": 39,
      "outputs": [
        {
          "output_type": "stream",
          "text": [
            "Accuracy =  0.9988509049123815\n",
            "Precision =  0.6120218579234973\n",
            "Recall =  0.7516778523489933\n",
            "F1 Score =  0.674698795180723\n"
          ],
          "name": "stdout"
        }
      ]
    },
    {
      "cell_type": "code",
      "metadata": {
        "id": "9QGM0EroWPts",
        "colab": {
          "base_uri": "https://localhost:8080/",
          "height": 377
        },
        "outputId": "a723db3d-af82-4331-c02c-b134e227e4d2"
      },
      "source": [
        "generate_auc_roc_curve(clf, X_test)"
      ],
      "execution_count": 40,
      "outputs": [
        {
          "output_type": "display_data",
          "data": {
            "image/png": "[encoded data removed]",
            "text/plain": [
              "<Figure size 720x432 with 1 Axes>"
            ]
          },
          "metadata": {
            "tags": []
          }
        }
      ]
    },
    {
      "cell_type": "markdown",
      "metadata": {
        "id": "GtNET-xzWPts"
      },
      "source": [
        "# SMOTE"
      ]
    },
    {
      "cell_type": "code",
      "metadata": {
        "id": "hEcA3kbbWPts",
        "colab": {
          "base_uri": "https://localhost:8080/"
        },
        "outputId": "f10b2492-be17-4767-abcb-98c304eebffc"
      },
      "source": [
        "unique, count = np.unique(Y_train, return_counts=True)\n",
        "Y_train_dict_value_count = { k:v for (k,v) in zip(unique, count)}\n",
        "Y_train_dict_value_count"
      ],
      "execution_count": 41,
      "outputs": [
        {
          "output_type": "execute_result",
          "data": {
            "text/plain": [
              "{0: 190477, 1: 343}"
            ]
          },
          "metadata": {
            "tags": []
          },
          "execution_count": 41
        }
      ]
    },
    {
      "cell_type": "code",
      "metadata": {
        "id": "_WPFIAL7WPtt"
      },
      "source": [
        "sm = SMOTE(random_state=12, ratio = 1.0)\n",
        "x_train_res, y_train_res = sm.fit_sample(X_train, Y_train)"
      ],
      "execution_count": 42,
      "outputs": []
    },
    {
      "cell_type": "code",
      "metadata": {
        "id": "kZ0Mko0TWPtt",
        "colab": {
          "base_uri": "https://localhost:8080/"
        },
        "outputId": "cb340866-23b7-4e2b-d4ec-29490a788bb9"
      },
      "source": [
        "unique, count = np.unique(y_train_res, return_counts=True)\n",
        "y_train_smote_value_count = { k:v for (k,v) in zip(unique, count)}\n",
        "y_train_smote_value_count"
      ],
      "execution_count": 43,
      "outputs": [
        {
          "output_type": "execute_result",
          "data": {
            "text/plain": [
              "{0: 190477, 1: 190477}"
            ]
          },
          "metadata": {
            "tags": []
          },
          "execution_count": 43
        }
      ]
    },
    {
      "cell_type": "code",
      "metadata": {
        "id": "edvFB-41WPtx"
      },
      "source": [
        "clf = LogisticRegression().fit(x_train_res, y_train_res)"
      ],
      "execution_count": 44,
      "outputs": []
    },
    {
      "cell_type": "code",
      "metadata": {
        "id": "aSAsm0G_WPtx"
      },
      "source": [
        "Y_Test_Pred = clf.predict(X_test)"
      ],
      "execution_count": 45,
      "outputs": []
    },
    {
      "cell_type": "code",
      "metadata": {
        "id": "Ic-2C8r2WPtx",
        "colab": {
          "base_uri": "https://localhost:8080/",
          "height": 142
        },
        "outputId": "c43afc5c-be7e-4652-df53-290bc90c8c87"
      },
      "source": [
        "pd.crosstab(Y_Test_Pred, Y_test[target], rownames=['Predicted'], colnames=['Actual'])"
      ],
      "execution_count": 46,
      "outputs": [
        {
          "output_type": "execute_result",
          "data": {
            "text/html": [
              "<div>\n",
              "<style scoped>\n",
              "    .dataframe tbody tr th:only-of-type {\n",
              "        vertical-align: middle;\n",
              "    }\n",
              "\n",
              "    .dataframe tbody tr th {\n",
              "        vertical-align: top;\n",
              "    }\n",
              "\n",
              "    .dataframe thead th {\n",
              "        text-align: right;\n",
              "    }\n",
              "</style>\n",
              "<table border=\"1\" class=\"dataframe\">\n",
              "  <thead>\n",
              "    <tr style=\"text-align: right;\">\n",
              "      <th>Actual</th>\n",
              "      <th>0</th>\n",
              "      <th>1</th>\n",
              "    </tr>\n",
              "    <tr>\n",
              "      <th>Predicted</th>\n",
              "      <th></th>\n",
              "      <th></th>\n",
              "    </tr>\n",
              "  </thead>\n",
              "  <tbody>\n",
              "    <tr>\n",
              "      <th>0</th>\n",
              "      <td>92200</td>\n",
              "      <td>15</td>\n",
              "    </tr>\n",
              "    <tr>\n",
              "      <th>1</th>\n",
              "      <td>1638</td>\n",
              "      <td>134</td>\n",
              "    </tr>\n",
              "  </tbody>\n",
              "</table>\n",
              "</div>"
            ],
            "text/plain": [
              "Actual         0    1\n",
              "Predicted            \n",
              "0          92200   15\n",
              "1           1638  134"
            ]
          },
          "metadata": {
            "tags": []
          },
          "execution_count": 46
        }
      ]
    },
    {
      "cell_type": "code",
      "metadata": {
        "id": "fDmS5v-jWPtx",
        "colab": {
          "base_uri": "https://localhost:8080/"
        },
        "outputId": "aa7d88d1-a6b7-4595-808a-8e1263847641"
      },
      "source": [
        "generate_model_report(Y_test, Y_Test_Pred)"
      ],
      "execution_count": 47,
      "outputs": [
        {
          "output_type": "stream",
          "text": [
            "Accuracy =  0.9824124612978391\n",
            "Precision =  0.07562076749435666\n",
            "Recall =  0.8993288590604027\n",
            "F1 Score =  0.13951067152524727\n"
          ],
          "name": "stdout"
        }
      ]
    },
    {
      "cell_type": "code",
      "metadata": {
        "id": "6Cngd1y_WPtx",
        "colab": {
          "base_uri": "https://localhost:8080/",
          "height": 377
        },
        "outputId": "8e538a82-3893-4d75-ccce-c78224820070"
      },
      "source": [
        "generate_auc_roc_curve(clf, X_test)"
      ],
      "execution_count": 48,
      "outputs": [
        {
          "output_type": "display_data",
          "data": {
            "image/png": "[encoded data removed]",
            "text/plain": [
              "<Figure size 720x432 with 1 Axes>"
            ]
          },
          "metadata": {
            "tags": []
          }
        }
      ]
    },
    {
      "cell_type": "code",
      "metadata": {
        "id": "d4cVwZeWWPty",
        "colab": {
          "base_uri": "https://localhost:8080/"
        },
        "outputId": "edf9a3db-5538-4cfc-e166-afe64f282085"
      },
      "source": [
        "weights = np.linspace(0.005, 0.25, 10)\n",
        "weights"
      ],
      "execution_count": 49,
      "outputs": [
        {
          "output_type": "execute_result",
          "data": {
            "text/plain": [
              "array([0.005     , 0.03222222, 0.05944444, 0.08666667, 0.11388889,\n",
              "       0.14111111, 0.16833333, 0.19555556, 0.22277778, 0.25      ])"
            ]
          },
          "metadata": {
            "tags": []
          },
          "execution_count": 49
        }
      ]
    },
    {
      "cell_type": "code",
      "metadata": {
        "id": "kBizVx25WPty",
        "colab": {
          "base_uri": "https://localhost:8080/",
          "height": 428
        },
        "outputId": "fff0a1ab-4bf7-4d6f-d5b5-d640a80fb160"
      },
      "source": [
        "pipe = make_pipeline(\n",
        "    SMOTE(),\n",
        "    LogisticRegression()\n",
        ")\n",
        "\n",
        "weights = np.linspace(0.005, 0.25, 10)\n",
        "\n",
        "gsc = GridSearchCV(\n",
        "    estimator=pipe,\n",
        "    param_grid={\n",
        "        'smote__ratio': weights\n",
        "    },\n",
        "    scoring='f1',\n",
        "    cv=3\n",
        ")\n",
        "grid_result = gsc.fit(X_train, Y_train)\n",
        "\n",
        "print(\"Best parameters : %s\" % grid_result.best_params_)\n",
        "weight_f1_score_df = pd.DataFrame({ 'score': grid_result.cv_results_['mean_test_score'],\n",
        "                                   'weight': weights })\n",
        "weight_f1_score_df.plot(x='weight')"
      ],
      "execution_count": 50,
      "outputs": [
        {
          "output_type": "stream",
          "text": [
            "Best parameters : {'smote__ratio': 0.005}\n"
          ],
          "name": "stdout"
        },
        {
          "output_type": "execute_result",
          "data": {
            "text/plain": [
              "<matplotlib.axes._subplots.AxesSubplot at 0x7f4318c329b0>"
            ]
          },
          "metadata": {
            "tags": []
          },
          "execution_count": 50
        },
        {
          "output_type": "display_data",
          "data": {
            "image/png": "[encoded data removed]",
            "text/plain": [
              "<Figure size 720x432 with 1 Axes>"
            ]
          },
          "metadata": {
            "tags": []
          }
        }
      ]
    },
    {
      "cell_type": "code",
      "metadata": {
        "id": "P9b0op61WPty"
      },
      "source": [
        "pipe = make_pipeline(\n",
        "    SMOTE(ratio=0.005),\n",
        "    LogisticRegression()\n",
        ")\n",
        "\n",
        "pipe.fit(X_train, Y_train)\n",
        "\n",
        "Y_Test_Pred = pipe.predict(X_test)"
      ],
      "execution_count": 51,
      "outputs": []
    },
    {
      "cell_type": "code",
      "metadata": {
        "id": "3MKOce0uWPty",
        "colab": {
          "base_uri": "https://localhost:8080/",
          "height": 142
        },
        "outputId": "4262673c-9fe2-4f32-889c-df1d3c981b13"
      },
      "source": [
        "pd.crosstab(Y_Test_Pred, Y_test[target], \n",
        "            rownames=['Predicted'], colnames=['Actual'])"
      ],
      "execution_count": 52,
      "outputs": [
        {
          "output_type": "execute_result",
          "data": {
            "text/html": [
              "<div>\n",
              "<style scoped>\n",
              "    .dataframe tbody tr th:only-of-type {\n",
              "        vertical-align: middle;\n",
              "    }\n",
              "\n",
              "    .dataframe tbody tr th {\n",
              "        vertical-align: top;\n",
              "    }\n",
              "\n",
              "    .dataframe thead th {\n",
              "        text-align: right;\n",
              "    }\n",
              "</style>\n",
              "<table border=\"1\" class=\"dataframe\">\n",
              "  <thead>\n",
              "    <tr style=\"text-align: right;\">\n",
              "      <th>Actual</th>\n",
              "      <th>0</th>\n",
              "      <th>1</th>\n",
              "    </tr>\n",
              "    <tr>\n",
              "      <th>Predicted</th>\n",
              "      <th></th>\n",
              "      <th></th>\n",
              "    </tr>\n",
              "  </thead>\n",
              "  <tbody>\n",
              "    <tr>\n",
              "      <th>0</th>\n",
              "      <td>93774</td>\n",
              "      <td>43</td>\n",
              "    </tr>\n",
              "    <tr>\n",
              "      <th>1</th>\n",
              "      <td>64</td>\n",
              "      <td>106</td>\n",
              "    </tr>\n",
              "  </tbody>\n",
              "</table>\n",
              "</div>"
            ],
            "text/plain": [
              "Actual         0    1\n",
              "Predicted            \n",
              "0          93774   43\n",
              "1             64  106"
            ]
          },
          "metadata": {
            "tags": []
          },
          "execution_count": 52
        }
      ]
    },
    {
      "cell_type": "code",
      "metadata": {
        "id": "tr7rRu6pWPt3",
        "colab": {
          "base_uri": "https://localhost:8080/"
        },
        "outputId": "ffb86c1d-dfc5-4aa7-dc80-587dc4b6128a"
      },
      "source": [
        "generate_model_report(Y_test, Y_Test_Pred)"
      ],
      "execution_count": 53,
      "outputs": [
        {
          "output_type": "stream",
          "text": [
            "Accuracy =  0.9988615446817113\n",
            "Precision =  0.6235294117647059\n",
            "Recall =  0.7114093959731543\n",
            "F1 Score =  0.6645768025078369\n"
          ],
          "name": "stdout"
        }
      ]
    },
    {
      "cell_type": "code",
      "metadata": {
        "id": "UIKwg_wWWPt3",
        "colab": {
          "base_uri": "https://localhost:8080/",
          "height": 377
        },
        "outputId": "c2a7c2d4-1808-4814-afe8-b3641072dd2e"
      },
      "source": [
        "generate_auc_roc_curve(clf, X_test)"
      ],
      "execution_count": 54,
      "outputs": [
        {
          "output_type": "display_data",
          "data": {
            "image/png": "[encoded data removed]",
            "text/plain": [
              "<Figure size 720x432 with 1 Axes>"
            ]
          },
          "metadata": {
            "tags": []
          }
        }
      ]
    },
    {
      "cell_type": "markdown",
      "metadata": {
        "id": "4MjEg1klWPt3"
      },
      "source": [
        "# UNDERSAMPLING"
      ]
    },
    {
      "cell_type": "code",
      "metadata": {
        "id": "GOS6STtGWPt3",
        "colab": {
          "base_uri": "https://localhost:8080/"
        },
        "outputId": "9e8e6db7-c625-458e-aac4-5af8f6b4bbb6"
      },
      "source": [
        "minority_class_len = len(df[df[target] == 1])\n",
        "print(minority_class_len)"
      ],
      "execution_count": 55,
      "outputs": [
        {
          "output_type": "stream",
          "text": [
            "492\n"
          ],
          "name": "stdout"
        }
      ]
    },
    {
      "cell_type": "code",
      "metadata": {
        "id": "sCVzl3cbWPt4",
        "colab": {
          "base_uri": "https://localhost:8080/"
        },
        "outputId": "3ee5e004-69a1-4601-b199-1e0fd3b03256"
      },
      "source": [
        "majority_class_indices = df[df[target] == 0].index\n",
        "print(majority_class_indices)"
      ],
      "execution_count": 56,
      "outputs": [
        {
          "output_type": "stream",
          "text": [
            "Int64Index([     0,      1,      2,      3,      4,      5,      6,      7,\n",
            "                 8,      9,\n",
            "            ...\n",
            "            284797, 284798, 284799, 284800, 284801, 284802, 284803, 284804,\n",
            "            284805, 284806],\n",
            "           dtype='int64', length=284315)\n"
          ],
          "name": "stdout"
        }
      ]
    },
    {
      "cell_type": "code",
      "metadata": {
        "id": "8gmn2BTVWPt4",
        "colab": {
          "base_uri": "https://localhost:8080/"
        },
        "outputId": "6fb01529-7c2b-46b5-b168-a29bff7a7d51"
      },
      "source": [
        "random_majority_indices = np.random.choice(majority_class_indices,\n",
        "                                           minority_class_len, \n",
        "                                           replace=False)\n",
        "print(len(random_majority_indices))"
      ],
      "execution_count": 57,
      "outputs": [
        {
          "output_type": "stream",
          "text": [
            "492\n"
          ],
          "name": "stdout"
        }
      ]
    },
    {
      "cell_type": "code",
      "metadata": {
        "id": "YPULtwftWPt4",
        "colab": {
          "base_uri": "https://localhost:8080/"
        },
        "outputId": "27502477-3014-40ec-a749-37e0351c560c"
      },
      "source": [
        "minority_class_indices = df[df[target] == 1].index\n",
        "print(minority_class_indices)"
      ],
      "execution_count": 58,
      "outputs": [
        {
          "output_type": "stream",
          "text": [
            "Int64Index([   541,    623,   4920,   6108,   6329,   6331,   6334,   6336,\n",
            "              6338,   6427,\n",
            "            ...\n",
            "            274382, 274475, 275992, 276071, 276864, 279863, 280143, 280149,\n",
            "            281144, 281674],\n",
            "           dtype='int64', length=492)\n"
          ],
          "name": "stdout"
        }
      ]
    },
    {
      "cell_type": "code",
      "metadata": {
        "id": "1STWavBhWPt9"
      },
      "source": [
        "under_sample_indices = np.concatenate([minority_class_indices,random_majority_indices])"
      ],
      "execution_count": 59,
      "outputs": []
    },
    {
      "cell_type": "code",
      "metadata": {
        "id": "MiQakE1AWPt-"
      },
      "source": [
        "under_sample = df.loc[under_sample_indices]"
      ],
      "execution_count": 60,
      "outputs": []
    },
    {
      "cell_type": "code",
      "metadata": {
        "id": "iyPMEnrpWPt-",
        "colab": {
          "base_uri": "https://localhost:8080/",
          "height": 411
        },
        "outputId": "ee19ac15-cfa3-4529-d046-a45297359a07"
      },
      "source": [
        "sns.countplot(x=target, data=under_sample)"
      ],
      "execution_count": 61,
      "outputs": [
        {
          "output_type": "execute_result",
          "data": {
            "text/plain": [
              "<matplotlib.axes._subplots.AxesSubplot at 0x7f4318bd9208>"
            ]
          },
          "metadata": {
            "tags": []
          },
          "execution_count": 61
        },
        {
          "output_type": "display_data",
          "data": {
            "image/png": "[encoded data removed]",
            "text/plain": [
              "<Figure size 720x432 with 1 Axes>"
            ]
          },
          "metadata": {
            "tags": []
          }
        }
      ]
    },
    {
      "cell_type": "code",
      "metadata": {
        "id": "zPaAfrK1WPt-"
      },
      "source": [
        "X = under_sample.loc[:, df.columns!=target]\n",
        "Y = under_sample.loc[:, df.columns==target]\n",
        "X_train, X_test, Y_train, Y_test = train_test_split(X, Y, test_size=0.33, random_state=42)\n",
        "clf = LogisticRegression().fit(X_train, Y_train)\n",
        "Y_Test_Pred = clf.predict(X_test)"
      ],
      "execution_count": 62,
      "outputs": []
    },
    {
      "cell_type": "code",
      "metadata": {
        "id": "Ay7UawsoWPt-",
        "colab": {
          "base_uri": "https://localhost:8080/"
        },
        "outputId": "6b9599b9-c85c-4276-cb59-98777ee013ac"
      },
      "source": [
        "generate_model_report(Y_test, Y_Test_Pred)"
      ],
      "execution_count": 63,
      "outputs": [
        {
          "output_type": "stream",
          "text": [
            "Accuracy =  0.92\n",
            "Precision =  0.9726027397260274\n",
            "Recall =  0.8658536585365854\n",
            "F1 Score =  0.9161290322580644\n"
          ],
          "name": "stdout"
        }
      ]
    },
    {
      "cell_type": "code",
      "metadata": {
        "id": "uubwquaaWPt-",
        "colab": {
          "base_uri": "https://localhost:8080/",
          "height": 377
        },
        "outputId": "8ff95ff3-c09d-46a6-c011-7473d0fd2aed"
      },
      "source": [
        "generate_auc_roc_curve(clf, X_test)"
      ],
      "execution_count": 64,
      "outputs": [
        {
          "output_type": "display_data",
          "data": {
            "image/png": "[encoded data removed]",
            "text/plain": [
              "<Figure size 720x432 with 1 Axes>"
            ]
          },
          "metadata": {
            "tags": []
          }
        }
      ]
    }
  ]
}