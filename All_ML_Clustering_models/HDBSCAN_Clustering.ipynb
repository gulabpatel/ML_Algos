{
  "nbformat": 4,
  "nbformat_minor": 0,
  "metadata": {
    "colab": {
      "name": "HDBSCAN_Clustering.ipynb",
      "provenance": [],
      "collapsed_sections": []
    },
    "kernelspec": {
      "name": "python3",
      "display_name": "Python 3"
    }
  },
  "cells": [
    {
      "cell_type": "markdown",
      "metadata": {
        "id": "1J8wBCuipFUg"
      },
      "source": [
        "#For more details on HDBSCAN visit\n",
        "https://towardsdatascience.com/lightning-talk-clustering-with-hdbscan-d47b83d1b03a & https://hdbscan.readthedocs.io/en/latest/basic_hdbscan.html"
      ]
    },
    {
      "cell_type": "code",
      "metadata": {
        "id": "YZVau3X1oDTd"
      },
      "source": [
        "from sklearn.datasets import make_blobs\n",
        "import pandas as pd"
      ],
      "execution_count": 1,
      "outputs": []
    },
    {
      "cell_type": "code",
      "metadata": {
        "id": "PNg0CFxypZ1l"
      },
      "source": [
        "blobs, labels = make_blobs(n_samples=2000, n_features=10)"
      ],
      "execution_count": 2,
      "outputs": []
    },
    {
      "cell_type": "code",
      "metadata": {
        "id": "mPTmfVxOpdPs",
        "outputId": "361a6507-0533-4954-fdd1-ffb74a31fc9f",
        "colab": {
          "base_uri": "https://localhost:8080/",
          "height": 224
        }
      },
      "source": [
        "pd.DataFrame(blobs).head()"
      ],
      "execution_count": 3,
      "outputs": [
        {
          "output_type": "execute_result",
          "data": {
            "text/html": [
              "<div>\n",
              "<style scoped>\n",
              "    .dataframe tbody tr th:only-of-type {\n",
              "        vertical-align: middle;\n",
              "    }\n",
              "\n",
              "    .dataframe tbody tr th {\n",
              "        vertical-align: top;\n",
              "    }\n",
              "\n",
              "    .dataframe thead th {\n",
              "        text-align: right;\n",
              "    }\n",
              "</style>\n",
              "<table border=\"1\" class=\"dataframe\">\n",
              "  <thead>\n",
              "    <tr style=\"text-align: right;\">\n",
              "      <th></th>\n",
              "      <th>0</th>\n",
              "      <th>1</th>\n",
              "      <th>2</th>\n",
              "      <th>3</th>\n",
              "      <th>4</th>\n",
              "      <th>5</th>\n",
              "      <th>6</th>\n",
              "      <th>7</th>\n",
              "      <th>8</th>\n",
              "      <th>9</th>\n",
              "    </tr>\n",
              "  </thead>\n",
              "  <tbody>\n",
              "    <tr>\n",
              "      <th>0</th>\n",
              "      <td>-2.880988</td>\n",
              "      <td>-8.703589</td>\n",
              "      <td>-4.807355</td>\n",
              "      <td>4.902799</td>\n",
              "      <td>-4.005807</td>\n",
              "      <td>8.594880</td>\n",
              "      <td>8.354137</td>\n",
              "      <td>1.382939</td>\n",
              "      <td>1.376176</td>\n",
              "      <td>-3.981377</td>\n",
              "    </tr>\n",
              "    <tr>\n",
              "      <th>1</th>\n",
              "      <td>-8.469241</td>\n",
              "      <td>4.450537</td>\n",
              "      <td>-1.693337</td>\n",
              "      <td>-3.643738</td>\n",
              "      <td>9.449458</td>\n",
              "      <td>5.643644</td>\n",
              "      <td>-8.561103</td>\n",
              "      <td>4.040472</td>\n",
              "      <td>5.403714</td>\n",
              "      <td>0.588033</td>\n",
              "    </tr>\n",
              "    <tr>\n",
              "      <th>2</th>\n",
              "      <td>5.888124</td>\n",
              "      <td>-8.417432</td>\n",
              "      <td>6.628366</td>\n",
              "      <td>9.195927</td>\n",
              "      <td>-6.851009</td>\n",
              "      <td>-3.503006</td>\n",
              "      <td>-4.771303</td>\n",
              "      <td>10.939476</td>\n",
              "      <td>8.754900</td>\n",
              "      <td>9.351643</td>\n",
              "    </tr>\n",
              "    <tr>\n",
              "      <th>3</th>\n",
              "      <td>-7.410875</td>\n",
              "      <td>2.457496</td>\n",
              "      <td>-1.897547</td>\n",
              "      <td>-1.421795</td>\n",
              "      <td>11.754936</td>\n",
              "      <td>7.260875</td>\n",
              "      <td>-9.641232</td>\n",
              "      <td>5.097369</td>\n",
              "      <td>4.079352</td>\n",
              "      <td>0.245060</td>\n",
              "    </tr>\n",
              "    <tr>\n",
              "      <th>4</th>\n",
              "      <td>-1.675448</td>\n",
              "      <td>-9.189448</td>\n",
              "      <td>-2.373614</td>\n",
              "      <td>6.731458</td>\n",
              "      <td>-6.934062</td>\n",
              "      <td>8.082055</td>\n",
              "      <td>9.354760</td>\n",
              "      <td>0.964100</td>\n",
              "      <td>1.960519</td>\n",
              "      <td>-3.857369</td>\n",
              "    </tr>\n",
              "  </tbody>\n",
              "</table>\n",
              "</div>"
            ],
            "text/plain": [
              "          0         1         2  ...          7         8         9\n",
              "0 -2.880988 -8.703589 -4.807355  ...   1.382939  1.376176 -3.981377\n",
              "1 -8.469241  4.450537 -1.693337  ...   4.040472  5.403714  0.588033\n",
              "2  5.888124 -8.417432  6.628366  ...  10.939476  8.754900  9.351643\n",
              "3 -7.410875  2.457496 -1.897547  ...   5.097369  4.079352  0.245060\n",
              "4 -1.675448 -9.189448 -2.373614  ...   0.964100  1.960519 -3.857369\n",
              "\n",
              "[5 rows x 10 columns]"
            ]
          },
          "metadata": {
            "tags": []
          },
          "execution_count": 3
        }
      ]
    },
    {
      "cell_type": "code",
      "metadata": {
        "id": "V_mpNZd2rE47",
        "outputId": "9038368f-0ddd-497b-8e89-ffed99929218",
        "colab": {
          "base_uri": "https://localhost:8080/"
        }
      },
      "source": [
        "!pip install hdbscan"
      ],
      "execution_count": 4,
      "outputs": [
        {
          "output_type": "stream",
          "text": [
            "Requirement already satisfied: hdbscan in /usr/local/lib/python3.6/dist-packages (0.8.26)\n",
            "Requirement already satisfied: cython>=0.27 in /usr/local/lib/python3.6/dist-packages (from hdbscan) (0.29.21)\n",
            "Requirement already satisfied: numpy>=1.16.0 in /usr/local/lib/python3.6/dist-packages (from hdbscan) (1.18.5)\n",
            "Requirement already satisfied: scipy>=0.9 in /usr/local/lib/python3.6/dist-packages (from hdbscan) (1.4.1)\n",
            "Requirement already satisfied: joblib in /usr/local/lib/python3.6/dist-packages (from hdbscan) (0.17.0)\n",
            "Requirement already satisfied: six in /usr/local/lib/python3.6/dist-packages (from hdbscan) (1.15.0)\n",
            "Requirement already satisfied: scikit-learn>=0.17 in /usr/local/lib/python3.6/dist-packages (from hdbscan) (0.22.2.post1)\n"
          ],
          "name": "stdout"
        }
      ]
    },
    {
      "cell_type": "code",
      "metadata": {
        "id": "mUcarNhspe22"
      },
      "source": [
        "import hdbscan"
      ],
      "execution_count": 5,
      "outputs": []
    },
    {
      "cell_type": "code",
      "metadata": {
        "id": "VkRnOq0GqGPI"
      },
      "source": [
        "clusterer = hdbscan.HDBSCAN()"
      ],
      "execution_count": 6,
      "outputs": []
    },
    {
      "cell_type": "code",
      "metadata": {
        "id": "d37UFa0TqH-j",
        "outputId": "ec41eec3-aea1-4ea7-e599-663ef5512377",
        "colab": {
          "base_uri": "https://localhost:8080/"
        }
      },
      "source": [
        "clusterer.fit(blobs)"
      ],
      "execution_count": 7,
      "outputs": [
        {
          "output_type": "execute_result",
          "data": {
            "text/plain": [
              "HDBSCAN(algorithm='best', allow_single_cluster=False, alpha=1.0,\n",
              "        approx_min_span_tree=True, cluster_selection_epsilon=0.0,\n",
              "        cluster_selection_method='eom', core_dist_n_jobs=4,\n",
              "        gen_min_span_tree=False, leaf_size=40,\n",
              "        match_reference_implementation=False, memory=Memory(location=None),\n",
              "        metric='euclidean', min_cluster_size=5, min_samples=None, p=None,\n",
              "        prediction_data=False)"
            ]
          },
          "metadata": {
            "tags": []
          },
          "execution_count": 7
        }
      ]
    },
    {
      "cell_type": "code",
      "metadata": {
        "id": "att5LMCDqJJ7",
        "outputId": "895c7f9c-6dd3-4bca-a509-b7f545b7a530",
        "colab": {
          "base_uri": "https://localhost:8080/"
        }
      },
      "source": [
        "clusterer.labels_"
      ],
      "execution_count": 8,
      "outputs": [
        {
          "output_type": "execute_result",
          "data": {
            "text/plain": [
              "array([2, 0, 1, ..., 2, 0, 1])"
            ]
          },
          "metadata": {
            "tags": []
          },
          "execution_count": 8
        }
      ]
    },
    {
      "cell_type": "code",
      "metadata": {
        "id": "Osn9WMUHqLLa",
        "outputId": "2d929950-f8dc-4b83-c96d-9ec3c0e72a01",
        "colab": {
          "base_uri": "https://localhost:8080/"
        }
      },
      "source": [
        "clusterer.labels_.max()"
      ],
      "execution_count": 9,
      "outputs": [
        {
          "output_type": "execute_result",
          "data": {
            "text/plain": [
              "2"
            ]
          },
          "metadata": {
            "tags": []
          },
          "execution_count": 9
        }
      ]
    },
    {
      "cell_type": "code",
      "metadata": {
        "id": "UAH0crdCqVsi",
        "outputId": "51801a52-1656-4d0b-f850-993865a4c207",
        "colab": {
          "base_uri": "https://localhost:8080/"
        }
      },
      "source": [
        "clusterer.probabilities_"
      ],
      "execution_count": 10,
      "outputs": [
        {
          "output_type": "execute_result",
          "data": {
            "text/plain": [
              "array([0.79025391, 0.72424175, 0.71754808, ..., 0.7692224 , 0.69274035,\n",
              "       0.79638977])"
            ]
          },
          "metadata": {
            "tags": []
          },
          "execution_count": 10
        }
      ]
    },
    {
      "cell_type": "markdown",
      "metadata": {
        "id": "iH1de0BMqaGr"
      },
      "source": [
        "# What about different metrics?"
      ]
    },
    {
      "cell_type": "code",
      "metadata": {
        "id": "PX7fp_qvqWCF",
        "outputId": "819d2934-9971-4478-d838-5b21d11093bd",
        "colab": {
          "base_uri": "https://localhost:8080/"
        }
      },
      "source": [
        "clusterer = hdbscan.HDBSCAN(metric='manhattan')\n",
        "clusterer.fit(blobs)\n",
        "clusterer.labels_"
      ],
      "execution_count": 11,
      "outputs": [
        {
          "output_type": "execute_result",
          "data": {
            "text/plain": [
              "array([2, 0, 1, ..., 2, 0, 1])"
            ]
          },
          "metadata": {
            "tags": []
          },
          "execution_count": 11
        }
      ]
    },
    {
      "cell_type": "code",
      "metadata": {
        "id": "rMInUJrdqlT1",
        "outputId": "ee0d08d7-66ee-4261-dd1b-953cb1fb4c86",
        "colab": {
          "base_uri": "https://localhost:8080/"
        }
      },
      "source": [
        "hdbscan.dist_metrics.METRIC_MAPPING"
      ],
      "execution_count": 12,
      "outputs": [
        {
          "output_type": "execute_result",
          "data": {
            "text/plain": [
              "{'arccos': hdbscan.dist_metrics.ArccosDistance,\n",
              " 'braycurtis': hdbscan.dist_metrics.BrayCurtisDistance,\n",
              " 'canberra': hdbscan.dist_metrics.CanberraDistance,\n",
              " 'chebyshev': hdbscan.dist_metrics.ChebyshevDistance,\n",
              " 'cityblock': hdbscan.dist_metrics.ManhattanDistance,\n",
              " 'cosine': hdbscan.dist_metrics.ArccosDistance,\n",
              " 'dice': hdbscan.dist_metrics.DiceDistance,\n",
              " 'euclidean': hdbscan.dist_metrics.EuclideanDistance,\n",
              " 'hamming': hdbscan.dist_metrics.HammingDistance,\n",
              " 'haversine': hdbscan.dist_metrics.HaversineDistance,\n",
              " 'infinity': hdbscan.dist_metrics.ChebyshevDistance,\n",
              " 'jaccard': hdbscan.dist_metrics.JaccardDistance,\n",
              " 'kulsinski': hdbscan.dist_metrics.KulsinskiDistance,\n",
              " 'l1': hdbscan.dist_metrics.ManhattanDistance,\n",
              " 'l2': hdbscan.dist_metrics.EuclideanDistance,\n",
              " 'mahalanobis': hdbscan.dist_metrics.MahalanobisDistance,\n",
              " 'manhattan': hdbscan.dist_metrics.ManhattanDistance,\n",
              " 'matching': hdbscan.dist_metrics.MatchingDistance,\n",
              " 'minkowski': hdbscan.dist_metrics.MinkowskiDistance,\n",
              " 'p': hdbscan.dist_metrics.MinkowskiDistance,\n",
              " 'pyfunc': hdbscan.dist_metrics.PyFuncDistance,\n",
              " 'rogerstanimoto': hdbscan.dist_metrics.RogersTanimotoDistance,\n",
              " 'russellrao': hdbscan.dist_metrics.RussellRaoDistance,\n",
              " 'seuclidean': hdbscan.dist_metrics.SEuclideanDistance,\n",
              " 'sokalmichener': hdbscan.dist_metrics.SokalMichenerDistance,\n",
              " 'sokalsneath': hdbscan.dist_metrics.SokalSneathDistance,\n",
              " 'wminkowski': hdbscan.dist_metrics.WMinkowskiDistance}"
            ]
          },
          "metadata": {
            "tags": []
          },
          "execution_count": 12
        }
      ]
    },
    {
      "cell_type": "markdown",
      "metadata": {
        "id": "vNHkROCvrAew"
      },
      "source": [
        "# Distance matrices"
      ]
    },
    {
      "cell_type": "code",
      "metadata": {
        "id": "hoOx4VNFrP3h"
      },
      "source": [
        "from sklearn.metrics.pairwise import pairwise_distances"
      ],
      "execution_count": 13,
      "outputs": []
    },
    {
      "cell_type": "code",
      "metadata": {
        "id": "Cmx9xwPGrWxn",
        "outputId": "53d58bb5-faaa-4780-bf3e-1b9ba120f644",
        "colab": {
          "base_uri": "https://localhost:8080/"
        }
      },
      "source": [
        "distance_matrix = pairwise_distances(blobs)\n",
        "clusterer = hdbscan.HDBSCAN(metric='precomputed')\n",
        "clusterer.fit(distance_matrix)\n",
        "clusterer.labels_"
      ],
      "execution_count": 14,
      "outputs": [
        {
          "output_type": "execute_result",
          "data": {
            "text/plain": [
              "array([1, 0, 2, ..., 1, 0, 2])"
            ]
          },
          "metadata": {
            "tags": []
          },
          "execution_count": 14
        }
      ]
    }
  ]
}